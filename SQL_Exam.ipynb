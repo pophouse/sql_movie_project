{
 "cells": [
  {
   "cell_type": "code",
   "execution_count": null,
   "id": "2bcce981-91f0-4f1e-a497-5fb53d939c21",
   "metadata": {},
   "outputs": [],
   "source": [
    "# SQL Exam\n"
   ]
  },
  {
   "cell_type": "code",
   "execution_count": null,
   "id": "2375c722-7324-42e9-af77-40c2c94db98a",
   "metadata": {},
   "outputs": [],
   "source": [
    "## Instructions to students\n",
    "\n",
    "This challenge is designed to determine how much you have learned so far and will test your knowledge on SQL.\n",
    "\n",
    "The answers for this challenge should be selected on Athena for each corresponding multiple-choice question. The questions are included in this notebook and are numbered according to the Athena questions. The options for each question have also been included.\n",
    "\n",
    "Do not add or remove cells in this notebook. Do not edit or remove the `%%sql` comment as it is required to run each cell.\n",
    "\n",
    "**_Good luck!_**"
   ]
  },
  {
   "cell_type": "markdown",
   "id": "092d3f5e",
   "metadata": {
    "jp-MarkdownHeadingCollapsed": true
   },
   "source": [
    "## Honour code\n",
    "\n",
    "I, YOUR NAME, confirm – by submitting this document – that the solutions in this notebook are a result of my own work and that I abide by the EDSA honour code \n"
   ]
  },
  {
   "cell_type": "markdown",
   "id": "b6bdd20c",
   "metadata": {},
   "source": [
    "## The TMDb database\n",
    "\n",
    "In this supplementary exam, you will be exploring [The Movie Database](https://www.themoviedb.org/) – an online movie and TV show database that houses some of the most popular movies and TV shows at your fingertips. The TMDb database supports 39 official languages used in over 180 countries daily and dates back all the way to 2008. \n",
    "\n",
    "\n",
    "<img src=\"https://github.com/Explore-AI/Pictures/blob/master/sql_tmdb.jpg?raw=true\" width=80%/>\n",
    "\n",
    "\n",
    "Below is an Entity Relationship Diagram (ERD) of the TMDb database:\n",
    "\n",
    "<img src=\"https://github.com/Explore-AI/Pictures/blob/master/TMDB_ER_diagram.png?raw=true\" width=70%/>\n",
    "\n",
    "As can be seen from the ERD, the TMDb database consists of `12 tables` containing information about movies, cast, genre, and so much more.  \n",
    "\n",
    "Let's get started!"
   ]
  },
  {
   "cell_type": "markdown",
   "id": "5a0b7683",
   "metadata": {
    "tags": []
   },
   "source": [
    "## Loading the database\n",
    "\n",
    "Before you begin, you need to prepare your SQL environment.  You can do this by loading the magic command `%load_ext sql`."
   ]
  },
  {
   "cell_type": "code",
   "execution_count": 4,
   "id": "0f34ea72",
   "metadata": {},
   "outputs": [
    {
     "name": "stdout",
     "output_type": "stream",
     "text": [
      "The sql extension is already loaded. To reload it, use:\n",
      "  %reload_ext sql\n"
     ]
    }
   ],
   "source": [
    "# Load and activate the SQL extension to allow us to execute SQL in a Jupyter notebook. \n",
    "# If you get an error here, make sure that mysql and pymysql are installed correctly. \n",
    "\n",
    "%load_ext sql"
   ]
  },
  {
   "cell_type": "markdown",
   "id": "3f78b691",
   "metadata": {},
   "source": [
    "Next, go ahead and load your database. To do this, you will need to ensure you have downloaded the `TMDB.db` sqlite file from Athena and have stored it in a known location."
   ]
  },
  {
   "cell_type": "code",
   "execution_count": 2,
   "id": "d279a04d",
   "metadata": {},
   "outputs": [
    {
     "data": {
      "text/plain": [
       "'Connected: @TMDB-a-4006.db'"
      ]
     },
     "execution_count": 2,
     "metadata": {},
     "output_type": "execute_result"
    }
   ],
   "source": [
    "# Establish a connection to the local database using the '%sql' magic command.\n",
    "# Replace 'password' with our connection password and `db_name` with our database name. \n",
    "# If you get an error here, please make sure the database name or password is correct.\n",
    "\n",
    "%sql sqlite:///TMDB-a-4006.db"
   ]
  },
  {
   "cell_type": "code",
   "execution_count": 5,
   "id": "b6c52c7e-b3f9-4195-8464-fc36d4da5db2",
   "metadata": {},
   "outputs": [
    {
     "name": "stdout",
     "output_type": "stream",
     "text": [
      "actors\n",
      "casts\n",
      "genremap\n",
      "genres\n",
      "keywordmap\n",
      "keywords\n",
      "languagemap\n",
      "languages\n",
      "movies\n",
      "oscars\n",
      "productioncompanies\n",
      "productioncompanymap\n",
      "productioncountries\n",
      "productioncountrymap\n",
      "sysdiagrams\n"
     ]
    }
   ],
   "source": [
    "from sqlalchemy import create_engine\n",
    "\n",
    "# Create an engine to the database\n",
    "engine = create_engine('sqlite:///TMDB-a-4006.db')\n",
    "\n",
    "# Connect to the engine\n",
    "with engine.connect() as connection:\n",
    "    # Execute the correct SQL command to list tables\n",
    "    result = connection.execute(\"SELECT name FROM sqlite_master WHERE type='table';\")\n",
    "    tables = result.fetchall()\n",
    "\n",
    "    # Print the tables\n",
    "    for table in tables:\n",
    "        print(table[0])"
   ]
  },
  {
   "cell_type": "markdown",
   "id": "6f8bbc0b-c31c-4274-ad13-399a9182a260",
   "metadata": {},
   "source": [
    "If the above line didn't throw out any errors, then you should be good to go. Good luck with the exam! "
   ]
  },
  {
   "cell_type": "markdown",
   "id": "f5ed5285",
   "metadata": {},
   "source": [
    "## Questions on SQL\n",
    "\n",
    "Use the given cell below each question to execute your SQL queries to find the correct input from the options provided. Your solution should match one of the multiple-choice questions on Athena."
   ]
  },
  {
   "cell_type": "markdown",
   "id": "86802726",
   "metadata": {},
   "source": [
    "### Question 1\n",
    "\n",
    "Who won the Oscar for “Actor in a Leading Role” in  2015?\n",
    "\n",
    "(Hint: The winner is indicated as '1.0'.)\n",
    "\n",
    "**Options:** \n",
    "\n",
    "  - Micheal Fassbender\n",
    "  - Natalie Portman\n",
    "  - Leonardo DiCaprio\n",
    "  - Eddie Redmayne\n"
   ]
  },
  {
   "cell_type": "code",
   "execution_count": 7,
   "id": "91f3421f",
   "metadata": {},
   "outputs": [
    {
     "name": "stdout",
     "output_type": "stream",
     "text": [
      " * sqlite:///TMDB-a-4006.db\n",
      "Done.\n"
     ]
    },
    {
     "data": {
      "text/html": [
       "<table>\n",
       "    <thead>\n",
       "        <tr>\n",
       "            <th>year</th>\n",
       "            <th>award</th>\n",
       "            <th>winner</th>\n",
       "            <th>name</th>\n",
       "            <th>film</th>\n",
       "        </tr>\n",
       "    </thead>\n",
       "    <tbody>\n",
       "        <tr>\n",
       "            <td>2015</td>\n",
       "            <td>Actor in a Leading Role</td>\n",
       "            <td>1.0</td>\n",
       "            <td>Leonardo DiCaprio</td>\n",
       "            <td>The Revenant</td>\n",
       "        </tr>\n",
       "    </tbody>\n",
       "</table>"
      ],
      "text/plain": [
       "[('2015', 'Actor in a Leading Role', '1.0', 'Leonardo DiCaprio', 'The Revenant')]"
      ]
     },
     "execution_count": 7,
     "metadata": {},
     "output_type": "execute_result"
    }
   ],
   "source": [
    "%%sql\n",
    "SELECT \n",
    "    *\n",
    "FROM\n",
    "    Oscars\n",
    "\n",
    "WHERE \n",
    "    Award = 'Actor in a Leading Role'\n",
    "AND\n",
    "    Year = \"2015\"\n",
    "AND\n",
    "    Winner = \"1.0\";"
   ]
  },
  {
   "cell_type": "code",
   "execution_count": null,
   "id": "d630132d-ec1c-44e1-86e0-2ab4ca33373a",
   "metadata": {},
   "outputs": [],
   "source": [
    "### Question 2\n",
    "\n",
    "What query will produce the ten oldest movies in the database?\n",
    "\n",
    "**Options:**\n",
    "\n",
    " - SELECT TOP(10) * FROM movies WHERE release_date ORDER BY release_date ASC\n",
    "\n",
    " - SELECT  * FROM movies WHERE release_date IS NOT NULL ORDER BY release_date ASC LIMIT 10\n",
    "\n",
    " - SELECT * FROM movies WHERE release_date IS NOT NULL ORDER BY release_date DESC LIMIT 10\n",
    "\n",
    " -  SELECT * FROM movies WHERE release_date IS NULL ORDER BY release_date DESC LIMIT 10"
   ]
  },
  {
   "cell_type": "code",
   "execution_count": 6,
   "id": "748f4263",
   "metadata": {},
   "outputs": [
    {
     "name": "stdout",
     "output_type": "stream",
     "text": [
      " * sqlite:///TMDB-a-4006.db\n",
      "Done.\n"
     ]
    },
    {
     "data": {
      "text/html": [
       "<table>\n",
       "    <thead>\n",
       "        <tr>\n",
       "            <th>movie_id</th>\n",
       "            <th>title</th>\n",
       "            <th>release_date</th>\n",
       "            <th>budget</th>\n",
       "            <th>homepage</th>\n",
       "            <th>original_language</th>\n",
       "            <th>original_title</th>\n",
       "            <th>overview</th>\n",
       "            <th>popularity</th>\n",
       "            <th>revenue</th>\n",
       "            <th>runtime</th>\n",
       "            <th>release_status</th>\n",
       "            <th>tagline</th>\n",
       "            <th>vote_average</th>\n",
       "            <th>vote_count</th>\n",
       "        </tr>\n",
       "    </thead>\n",
       "    <tbody>\n",
       "        <tr>\n",
       "            <td>3059</td>\n",
       "            <td>Intolerance</td>\n",
       "            <td>1916-09-04 00:00:00.000000</td>\n",
       "            <td>385907</td>\n",
       "            <td>None</td>\n",
       "            <td>en</td>\n",
       "            <td>Intolerance</td>\n",
       "            <td>The story of a poor young woman, separated by prejudice from her husband and baby, is interwoven with tales of intolerance from throughout history.</td>\n",
       "            <td>3.232447</td>\n",
       "            <td>8394751.0</td>\n",
       "            <td>197.0</td>\n",
       "            <td>Released</td>\n",
       "            <td>The Cruel Hand of Intolerance</td>\n",
       "            <td>7.4</td>\n",
       "            <td>60</td>\n",
       "        </tr>\n",
       "        <tr>\n",
       "            <td>3060</td>\n",
       "            <td>The Big Parade</td>\n",
       "            <td>1925-11-05 00:00:00.000000</td>\n",
       "            <td>245000</td>\n",
       "            <td>None</td>\n",
       "            <td>en</td>\n",
       "            <td>The Big Parade</td>\n",
       "            <td>The story of an idle rich boy who joins the US Army&#x27;s Rainbow Division and is sent to France to fight in World War I, becomes friends with two working class men, experiences the horrors of trench warfare, and finds love with a French girl.</td>\n",
       "            <td>0.785744</td>\n",
       "            <td>22000000.0</td>\n",
       "            <td>151.0</td>\n",
       "            <td>Released</td>\n",
       "            <td>None</td>\n",
       "            <td>7.0</td>\n",
       "            <td>21</td>\n",
       "        </tr>\n",
       "        <tr>\n",
       "            <td>19</td>\n",
       "            <td>Metropolis</td>\n",
       "            <td>1927-01-10 00:00:00.000000</td>\n",
       "            <td>92620000</td>\n",
       "            <td>None</td>\n",
       "            <td>de</td>\n",
       "            <td>Metropolis</td>\n",
       "            <td>In a futuristic city sharply divided between the working class and the city planners, the son of the city&#x27;s mastermind falls in love with a working class prophet who predicts the coming of a savior to mediate their differences.</td>\n",
       "            <td>32.351527</td>\n",
       "            <td>650422.0</td>\n",
       "            <td>153.0</td>\n",
       "            <td>Released</td>\n",
       "            <td>There can be no understanding between the hands and the brain unless the heart acts as mediator.</td>\n",
       "            <td>8.0</td>\n",
       "            <td>657</td>\n",
       "        </tr>\n",
       "        <tr>\n",
       "            <td>905</td>\n",
       "            <td>Pandora&#x27;s Box</td>\n",
       "            <td>1929-01-30 00:00:00.000000</td>\n",
       "            <td>0</td>\n",
       "            <td>None</td>\n",
       "            <td>de</td>\n",
       "            <td>Die Bnchse der Pandora</td>\n",
       "            <td>The rise and inevitable fall of an amoral but naive young woman whose insouciant eroticism inspires lust and violence in those around her.</td>\n",
       "            <td>1.824184</td>\n",
       "            <td>0.0</td>\n",
       "            <td>109.0</td>\n",
       "            <td>Released</td>\n",
       "            <td>None</td>\n",
       "            <td>7.6</td>\n",
       "            <td>45</td>\n",
       "        </tr>\n",
       "        <tr>\n",
       "            <td>65203</td>\n",
       "            <td>The Broadway Melody</td>\n",
       "            <td>1929-02-08 00:00:00.000000</td>\n",
       "            <td>379000</td>\n",
       "            <td>None</td>\n",
       "            <td>en</td>\n",
       "            <td>The Broadway Melody</td>\n",
       "            <td>Harriet and Queenie Mahoney, a vaudeville act, come to Broadway, where their friend Eddie Kerns needs them for his number in one of Francis Zanfield&#x27;s shows. Eddie was in love with Harriet, but when he meets Queenie, he falls in love to her, but she is courted by Jock Warriner, a member of the New Yorker high society. It takes a while till Queenie recognizes, that she is for Jock nothing more than a toy, and it also takes a while till Harriet recognizes, that Eddie is in love with Queenie</td>\n",
       "            <td>0.968865</td>\n",
       "            <td>4358000.0</td>\n",
       "            <td>100.0</td>\n",
       "            <td>Released</td>\n",
       "            <td>The pulsating drama of Broadway&#x27;s bared heart speaks and sings with a voice to stir your soul!</td>\n",
       "            <td>5.0</td>\n",
       "            <td>19</td>\n",
       "        </tr>\n",
       "        <tr>\n",
       "            <td>22301</td>\n",
       "            <td>Hell&#x27;s Angels</td>\n",
       "            <td>1930-11-15 00:00:00.000000</td>\n",
       "            <td>3950000</td>\n",
       "            <td>None</td>\n",
       "            <td>en</td>\n",
       "            <td>Hell&#x27;s Angels</td>\n",
       "            <td>Two brothers attending Oxford enlist with the Royal Flying Corps when World War I breaks out. Roy and Monte Rutledge have very different personalities. Monte is a freewheeling womanizer, even with his brother&#x27;s girlfriend Helen. He also proves to have a yellow streak when it comes to his Night Patrol duties. Roy is made of strong moral fiber and attempts to keep his brother in line. Both volunteer for an extremely risky two man bombing mission for different reasons. Monte wants to lose his cowardly reputation and Roy seeks to protect his brother. Roy loves Helen; Helen enjoys an affair with Monte; before they leave on their mission over Germany they find her in still another man&#x27;s arms.  Their assignment to knock out a strategic German munitions facility is a booming success, but with a squadron of fighters bearing down on them afterwards, escape seems unlikely.</td>\n",
       "            <td>8.484123</td>\n",
       "            <td>8000000.0</td>\n",
       "            <td>127.0</td>\n",
       "            <td>Released</td>\n",
       "            <td>Howard Hughes&#x27; Thrilling Multi-Million Dollar Air Spectacle</td>\n",
       "            <td>6.1</td>\n",
       "            <td>19</td>\n",
       "        </tr>\n",
       "        <tr>\n",
       "            <td>22649</td>\n",
       "            <td>A Farewell to Arms</td>\n",
       "            <td>1932-12-08 00:00:00.000000</td>\n",
       "            <td>4</td>\n",
       "            <td>None</td>\n",
       "            <td>en</td>\n",
       "            <td>A Farewell to Arms</td>\n",
       "            <td>British nurse Catherine Barkley (Helen Hayes) and American Lieutenant Frederic Henry (Gary Cooper) fall in love during the First World War in Italy. Eventually separated by Frederic&#x27;s transfer, tremendous challenges and difficult decisions face each, as the war rages on. Academy Awards winner for Best Cinematography and for Best Sound, Recording. Nominated for Best Picture and for Best Art Direction.</td>\n",
       "            <td>1.199451</td>\n",
       "            <td>25.0</td>\n",
       "            <td>89.0</td>\n",
       "            <td>Released</td>\n",
       "            <td>Every woman who has loved will understand</td>\n",
       "            <td>6.2</td>\n",
       "            <td>28</td>\n",
       "        </tr>\n",
       "        <tr>\n",
       "            <td>3062</td>\n",
       "            <td>42nd Street</td>\n",
       "            <td>1933-02-02 00:00:00.000000</td>\n",
       "            <td>439000</td>\n",
       "            <td>None</td>\n",
       "            <td>en</td>\n",
       "            <td>42nd Street</td>\n",
       "            <td>A producer puts on what may be his last Broadway show, and at the last moment a chorus girl has to replace the star.</td>\n",
       "            <td>1.933366</td>\n",
       "            <td>2281000.0</td>\n",
       "            <td>89.0</td>\n",
       "            <td>Released</td>\n",
       "            <td>None</td>\n",
       "            <td>6.1</td>\n",
       "            <td>37</td>\n",
       "        </tr>\n",
       "        <tr>\n",
       "            <td>43595</td>\n",
       "            <td>She Done Him Wrong</td>\n",
       "            <td>1933-02-09 00:00:00.000000</td>\n",
       "            <td>200000</td>\n",
       "            <td>None</td>\n",
       "            <td>en</td>\n",
       "            <td>She Done Him Wrong</td>\n",
       "            <td>&quot;New York singer and nightclub owner Lady Lou has more men friends than you can imagine. Unfortunately one of them is a vicious criminal who&#x27;s escaped and is on the way to see &quot;&quot;his&quot;&quot; girl, not realising she hasn&#x27;t exactly been faithful in his absence. Help is at hand in the form of young Captain Cummings a local temperance league leader though.&quot;</td>\n",
       "            <td>0.622752</td>\n",
       "            <td>2200000.0</td>\n",
       "            <td>66.0</td>\n",
       "            <td>Released</td>\n",
       "            <td>Mae West gives a &#x27;Hot Time&#x27; to the nation!</td>\n",
       "            <td>5.1</td>\n",
       "            <td>27</td>\n",
       "        </tr>\n",
       "        <tr>\n",
       "            <td>3078</td>\n",
       "            <td>It Happened One Night</td>\n",
       "            <td>1934-02-22 00:00:00.000000</td>\n",
       "            <td>325000</td>\n",
       "            <td>None</td>\n",
       "            <td>en</td>\n",
       "            <td>It Happened One Night</td>\n",
       "            <td>Ellie Andrews has just tied the knot with society aviator King Westley when she is whisked away to her father&#x27;s yacht and out of King&#x27;s clutches. Ellie jumps ship and eventually winds up on a bus headed back to her husband. Reluctantly she must accept the help of out-of- work reporter Peter Warne. Actually, Warne doesn&#x27;t give her any choice: either she sticks with him until he gets her back to her husband, or he&#x27;ll blow the whistle on Ellie to her father. Either way, Peter gets what he wants... a really juicy newspaper story!</td>\n",
       "            <td>11.871424</td>\n",
       "            <td>4500000.0</td>\n",
       "            <td>105.0</td>\n",
       "            <td>Released</td>\n",
       "            <td>TOGETHER... for the first time</td>\n",
       "            <td>7.7</td>\n",
       "            <td>275</td>\n",
       "        </tr>\n",
       "    </tbody>\n",
       "</table>"
      ],
      "text/plain": [
       "[(3059, 'Intolerance', '1916-09-04 00:00:00.000000', 385907, None, 'en', 'Intolerance', 'The story of a poor young woman, separated by prejudice from her husband and baby, is interwoven with tales of intolerance from throughout history.', 3.232447, 8394751.0, 197.0, 'Released', 'The Cruel Hand of Intolerance', 7.4, 60),\n",
       " (3060, 'The Big Parade', '1925-11-05 00:00:00.000000', 245000, None, 'en', 'The Big Parade', \"The story of an idle rich boy who joins the US Army's Rainbow Division and is sent to France to fight in World War I, becomes friends with two working class men, experiences the horrors of trench warfare, and finds love with a French girl.\", 0.785744, 22000000.0, 151.0, 'Released', None, 7.0, 21),\n",
       " (19, 'Metropolis', '1927-01-10 00:00:00.000000', 92620000, None, 'de', 'Metropolis', \"In a futuristic city sharply divided between the working class and the city planners, the son of the city's mastermind falls in love with a working class prophet who predicts the coming of a savior to mediate their differences.\", 32.351527, 650422.0, 153.0, 'Released', 'There can be no understanding between the hands and the brain unless the heart acts as mediator.', 8.0, 657),\n",
       " (905, \"Pandora's Box\", '1929-01-30 00:00:00.000000', 0, None, 'de', 'Die Bnchse der Pandora', 'The rise and inevitable fall of an amoral but naive young woman whose insouciant eroticism inspires lust and violence in those around her.', 1.824184, 0.0, 109.0, 'Released', None, 7.6, 45),\n",
       " (65203, 'The Broadway Melody', '1929-02-08 00:00:00.000000', 379000, None, 'en', 'The Broadway Melody', \"Harriet and Queenie Mahoney, a vaudeville act, come to Broadway, where their friend Eddie Kerns needs them for his number in one of Francis Zanfield' ... (195 characters truncated) ... eenie recognizes, that she is for Jock nothing more than a toy, and it also takes a while till Harriet recognizes, that Eddie is in love with Queenie\", 0.968865, 4358000.0, 100.0, 'Released', \"The pulsating drama of Broadway's bared heart speaks and sings with a voice to stir your soul!\", 5.0, 19),\n",
       " (22301, \"Hell's Angels\", '1930-11-15 00:00:00.000000', 3950000, None, 'en', \"Hell's Angels\", \"Two brothers attending Oxford enlist with the Royal Flying Corps when World War I breaks out. Roy and Monte Rutledge have very different personalitie ... (576 characters truncated) ... t a strategic German munitions facility is a booming success, but with a squadron of fighters bearing down on them afterwards, escape seems unlikely.\", 8.484123, 8000000.0, 127.0, 'Released', \"Howard Hughes' Thrilling Multi-Million Dollar Air Spectacle\", 6.1, 19),\n",
       " (22649, 'A Farewell to Arms', '1932-12-08 00:00:00.000000', 4, None, 'en', 'A Farewell to Arms', \"British nurse Catherine Barkley (Helen Hayes) and American Lieutenant Frederic Henry (Gary Cooper) fall in love during the First World War in Italy.  ... (105 characters truncated) ... the war rages on. Academy Awards winner for Best Cinematography and for Best Sound, Recording. Nominated for Best Picture and for Best Art Direction.\", 1.199451, 25.0, 89.0, 'Released', 'Every woman who has loved will understand', 6.2, 28),\n",
       " (3062, '42nd Street', '1933-02-02 00:00:00.000000', 439000, None, 'en', '42nd Street', 'A producer puts on what may be his last Broadway show, and at the last moment a chorus girl has to replace the star.', 1.933366, 2281000.0, 89.0, 'Released', None, 6.1, 37),\n",
       " (43595, 'She Done Him Wrong', '1933-02-09 00:00:00.000000', 200000, None, 'en', 'She Done Him Wrong', '\"New York singer and nightclub owner Lady Lou has more men friends than you can imagine. Unfortunately one of them is a vicious criminal who\\'s escap ... (52 characters truncated) ... ing she hasn\\'t exactly been faithful in his absence. Help is at hand in the form of young Captain Cummings a local temperance league leader though.\"', 0.622752, 2200000.0, 66.0, 'Released', \"Mae West gives a 'Hot Time' to the nation!\", 5.1, 27),\n",
       " (3078, 'It Happened One Night', '1934-02-22 00:00:00.000000', 325000, None, 'en', 'It Happened One Night', \"Ellie Andrews has just tied the knot with society aviator King Westley when she is whisked away to her father's yacht and out of King's clutches. Ell ... (233 characters truncated) ... ts her back to her husband, or he'll blow the whistle on Ellie to her father. Either way, Peter gets what he wants... a really juicy newspaper story!\", 11.871424, 4500000.0, 105.0, 'Released', 'TOGETHER... for the first time', 7.7, 275)]"
      ]
     },
     "execution_count": 6,
     "metadata": {},
     "output_type": "execute_result"
    }
   ],
   "source": [
    "%%sql\n",
    "SELECT\n",
    "    *\n",
    "FROM\n",
    "    movies\n",
    "WHERE\n",
    "    release_date\n",
    "IS \n",
    "    NOT NULL \n",
    "ORDER BY\n",
    "    release_date ASC\n",
    "LIMIT\n",
    "    '10';"
   ]
  },
  {
   "cell_type": "markdown",
   "id": "79dc3d5f",
   "metadata": {},
   "source": [
    "### Question 3\n",
    "\n",
    "How many unique awards are there in the Oscars table?\n",
    "\n",
    "**Options:**\n",
    " - 141\n",
    " - 53 \n",
    " - 80\n",
    " - 114"
   ]
  },
  {
   "cell_type": "code",
   "execution_count": 7,
   "id": "f4621a53",
   "metadata": {},
   "outputs": [
    {
     "name": "stdout",
     "output_type": "stream",
     "text": [
      " * sqlite:///TMDB-a-4006.db\n",
      "Done.\n"
     ]
    },
    {
     "data": {
      "text/html": [
       "<table>\n",
       "    <thead>\n",
       "        <tr>\n",
       "            <th>unique</th>\n",
       "        </tr>\n",
       "    </thead>\n",
       "    <tbody>\n",
       "        <tr>\n",
       "            <td>114</td>\n",
       "        </tr>\n",
       "    </tbody>\n",
       "</table>"
      ],
      "text/plain": [
       "[(114,)]"
      ]
     },
     "execution_count": 7,
     "metadata": {},
     "output_type": "execute_result"
    }
   ],
   "source": [
    "%%sql\n",
    "SELECT\n",
    "    count(DISTINCT award)\n",
    "AS \n",
    "    'unique'\n",
    "FROM\n",
    "    oscars;\n"
   ]
  },
  {
   "cell_type": "markdown",
   "id": "a8b06373",
   "metadata": {},
   "source": [
    "### Question 4\n",
    "\n",
    "How many movies are there that contain the word “Spider” within their title?\n",
    "\n",
    "**Options:**\n",
    " - 0\n",
    " - 5\n",
    " - 1\n",
    " - 9"
   ]
  },
  {
   "cell_type": "code",
   "execution_count": 4,
   "id": "1e003247",
   "metadata": {
    "scrolled": true
   },
   "outputs": [
    {
     "name": "stdout",
     "output_type": "stream",
     "text": [
      " * sqlite:///TMDB-a-4006.db\n",
      "Done.\n"
     ]
    },
    {
     "data": {
      "text/html": [
       "<table>\n",
       "    <thead>\n",
       "        <tr>\n",
       "            <th>count(*)</th>\n",
       "        </tr>\n",
       "    </thead>\n",
       "    <tbody>\n",
       "        <tr>\n",
       "            <td>9</td>\n",
       "        </tr>\n",
       "    </tbody>\n",
       "</table>"
      ],
      "text/plain": [
       "[(9,)]"
      ]
     },
     "execution_count": 4,
     "metadata": {},
     "output_type": "execute_result"
    }
   ],
   "source": [
    "%%sql\n",
    "SELECT\n",
    "    count(*)\n",
    "FROM\n",
    "    movies\n",
    "WHERE\n",
    "    title \n",
    "LIKE \"%spider%\";"
   ]
  },
  {
   "cell_type": "code",
   "execution_count": null,
   "id": "f1adc3d6-1187-4a3f-9a70-d42cfaefd4c5",
   "metadata": {},
   "outputs": [],
   "source": [
    "%%sql\n",
    "select \n",
    "    genre_name\n",
    "FROM\n",
    "    movies;\n"
   ]
  },
  {
   "cell_type": "markdown",
   "id": "2f77c5bd",
   "metadata": {},
   "source": [
    "### Question 5\n",
    "\n",
    "How many movies are there that are both in the \"Thriller\" genre and contain the word “love” anywhere in the keywords?\n",
    "\n",
    "\n",
    "**Options:**\n",
    " - 48\n",
    " - 38\n",
    " - 14\n",
    " - 1"
   ]
  },
  {
   "cell_type": "code",
   "execution_count": 8,
   "id": "abc5146c",
   "metadata": {},
   "outputs": [
    {
     "name": "stdout",
     "output_type": "stream",
     "text": [
      " * sqlite:///TMDB-a-4006.db\n",
      "Done.\n"
     ]
    },
    {
     "data": {
      "text/html": [
       "<table>\n",
       "    <thead>\n",
       "        <tr>\n",
       "            <th>thriller_love_movies</th>\n",
       "        </tr>\n",
       "    </thead>\n",
       "    <tbody>\n",
       "        <tr>\n",
       "            <td>14</td>\n",
       "        </tr>\n",
       "    </tbody>\n",
       "</table>"
      ],
      "text/plain": [
       "[(14,)]"
      ]
     },
     "execution_count": 8,
     "metadata": {},
     "output_type": "execute_result"
    }
   ],
   "source": [
    "%%sql\n",
    "SELECT \n",
    "    count(*)\n",
    "AS\n",
    "    thriller_love_movies\n",
    "FROM\n",
    "    movies m \n",
    "JOIN genremap gm\n",
    "ON\n",
    "   gm.movie_id = m.movie_id \n",
    "\n",
    "JOIN genres g\n",
    "ON\n",
    "    g.genre_id = gm.genre_id\n",
    "\n",
    "JOIN keywordmap km \n",
    "ON m.movie_id = km.movie_id\n",
    "JOIN keywords K\n",
    "ON k.keyword_id = km.keyword_id\n",
    "WHERE\n",
    "    genre_name ='Thriller'\n",
    "AND\n",
    "    keyword_name\n",
    "LIKE 'love';\n",
    "    \n",
    "\n",
    "\n",
    "\n"
   ]
  },
  {
   "cell_type": "markdown",
   "id": "8c6e82eb",
   "metadata": {},
   "source": [
    "### Question 6\n",
    "\n",
    "How many movies are there that were released between 1 August 2006 ('2006-08-01') and 1 October 2009 ('2009-10-01') that have a popularity score of more than 40 and a budget of less than 50 000 000?\n",
    "\n",
    " \n",
    "**Options:**\n",
    "\n",
    " - 29\n",
    " - 23\n",
    " - 28\n",
    " - 35"
   ]
  },
  {
   "cell_type": "code",
   "execution_count": 9,
   "id": "e8de6542",
   "metadata": {},
   "outputs": [
    {
     "name": "stdout",
     "output_type": "stream",
     "text": [
      " * sqlite:///TMDB-a-4006.db\n",
      "Done.\n"
     ]
    },
    {
     "data": {
      "text/html": [
       "<table>\n",
       "    <thead>\n",
       "        <tr>\n",
       "            <th>movie_count</th>\n",
       "        </tr>\n",
       "    </thead>\n",
       "    <tbody>\n",
       "        <tr>\n",
       "            <td>29</td>\n",
       "        </tr>\n",
       "    </tbody>\n",
       "</table>"
      ],
      "text/plain": [
       "[(29,)]"
      ]
     },
     "execution_count": 9,
     "metadata": {},
     "output_type": "execute_result"
    }
   ],
   "source": [
    "%%sql\n",
    "SELECT \n",
    "    Count(*)\n",
    "AS \n",
    "    movie_count\n",
    "FROM\n",
    "    movies\n",
    "WHERE\n",
    "     release_date BETWEEN '2006-08-01' \n",
    "AND '2009-10-01'\n",
    "AND popularity > 40\n",
    "AND budget < 50000000;\n"
   ]
  },
  {
   "cell_type": "markdown",
   "id": "cf0d12b1",
   "metadata": {},
   "source": [
    "### Question 7\n",
    "\n",
    "How many unique characters has \"Vin Diesel\" played so far in the database?\n",
    "\n",
    "**Options:**\n",
    " - 24\n",
    " - 19\n",
    " - 18\n",
    " - 16"
   ]
  },
  {
   "cell_type": "code",
   "execution_count": 10,
   "id": "cc1eecb5",
   "metadata": {},
   "outputs": [
    {
     "name": "stdout",
     "output_type": "stream",
     "text": [
      " * sqlite:///TMDB-a-4006.db\n",
      "Done.\n"
     ]
    },
    {
     "data": {
      "text/html": [
       "<table>\n",
       "    <thead>\n",
       "        <tr>\n",
       "            <th>characters</th>\n",
       "            <th>Unique_Role</th>\n",
       "        </tr>\n",
       "    </thead>\n",
       "    <tbody>\n",
       "        <tr>\n",
       "            <td>Finger (voice)</td>\n",
       "            <td>16</td>\n",
       "        </tr>\n",
       "    </tbody>\n",
       "</table>"
      ],
      "text/plain": [
       "[('Finger (voice)', 16)]"
      ]
     },
     "execution_count": 10,
     "metadata": {},
     "output_type": "execute_result"
    }
   ],
   "source": [
    "%%sql\n",
    "\n",
    "SELECT \n",
    "    characters,\n",
    "COUNT(DISTINCT characters) AS Unique_Role\n",
    "FROM \n",
    "    casts\n",
    "INNER JOIN actors \n",
    "ON actors.actor_id = casts.actor_id\n",
    "WHERE actors.actor_name = \"Vin Diesel\";"
   ]
  },
  {
   "cell_type": "code",
   "execution_count": null,
   "id": "b17dc899-2423-4189-81d3-8296d94056f9",
   "metadata": {},
   "outputs": [],
   "source": [
    "### Question 8\n",
    "\n",
    "What are the genres of the movie “The Royal Tenenbaums”?\n",
    "\n",
    "\n",
    "**Options:**\n",
    " - Action, Romance\n",
    " - Drama, Comedy\n",
    " - Crime, Thriller\n",
    " - Drama, Romance"
   ]
  },
  {
   "cell_type": "code",
   "execution_count": null,
   "id": "e550c988-5a08-4c7c-944c-280698a43fa4",
   "metadata": {},
   "outputs": [],
   "source": [
    "%%sql\n",
    "\n",
    "SELECT \n",
    "    g.genre_name,\n",
    "    m.title,\n",
    "    gm.genre_id\n",
    "FROM \n",
    "    movies m\n",
    "INNER JOIN genremap gm\n",
    "ON gm.movie_id = m.movie_id\n",
    "INNER JOIN genres g\n",
    "ON g.genre_id = gm.genre_id\n",
    "WHERE m.title = \"The Royal Tenenbaums\";"
   ]
  },
  {
   "cell_type": "markdown",
   "id": "d3ed71a0",
   "metadata": {},
   "source": [
    "### Question 9\n",
    "\n",
    "What are the three production companies that have the highest movie popularity score on average, as recorded within the database?\n",
    "\n",
    "\n",
    "**Options:**\n",
    "\n",
    " - MCL Films S.A., Turner Pictures, and George Stevens Productions\n",
    " - The Donners' Company, Bulletproof Cupid, and Kinberg Genre\n",
    " - Bulletproof Cupid, The Donners' Company, and MCL Films S.A\n",
    " - B.Sting Entertainment, Illumination Pictures, and Aztec Musique"
   ]
  },
  {
   "cell_type": "code",
   "execution_count": 6,
   "id": "92d65440",
   "metadata": {},
   "outputs": [
    {
     "name": "stdout",
     "output_type": "stream",
     "text": [
      " * sqlite:///TMDB-a-4006.db\n",
      "Done.\n"
     ]
    },
    {
     "data": {
      "text/html": [
       "<table>\n",
       "    <thead>\n",
       "        <tr>\n",
       "            <th>production_company_name</th>\n",
       "            <th>highest_movie_popularity</th>\n",
       "        </tr>\n",
       "    </thead>\n",
       "    <tbody>\n",
       "        <tr>\n",
       "            <td>The Donners&#x27; Company</td>\n",
       "            <td>514.569956</td>\n",
       "        </tr>\n",
       "        <tr>\n",
       "            <td>Bulletproof Cupid</td>\n",
       "            <td>481.098624</td>\n",
       "        </tr>\n",
       "        <tr>\n",
       "            <td>Kinberg Genre</td>\n",
       "            <td>326.92099900000005</td>\n",
       "        </tr>\n",
       "    </tbody>\n",
       "</table>"
      ],
      "text/plain": [
       "[(\"The Donners' Company\", 514.569956),\n",
       " ('Bulletproof Cupid', 481.098624),\n",
       " ('Kinberg Genre', 326.92099900000005)]"
      ]
     },
     "execution_count": 6,
     "metadata": {},
     "output_type": "execute_result"
    }
   ],
   "source": [
    "%%sql\n",
    "SELECT\n",
    "    production_company_name, AVG (popularity) AS  highest_movie_popularity\n",
    "FROM\n",
    "    movies m\n",
    "JOIN productioncompanymap pcm\n",
    "ON m.movie_id = pcm.movie_id\n",
    "JOIN productioncompanies pc\n",
    "ON pcm.production_company_id =pc.production_company_id\n",
    "GROUP BY \n",
    "    production_company_name\n",
    "ORDER BY\n",
    "    highest_movie_popularity\n",
    "DESC \n",
    "LIMIT 3;\n"
   ]
  },
  {
   "cell_type": "markdown",
   "id": "d892dcac",
   "metadata": {},
   "source": [
    "### Question 10\n",
    "\n",
    "How many female actors (i.e. gender = 1) have a name that starts with the letter \"N\"?\n",
    "\n",
    "\n",
    "**Options:**\n",
    "\n",
    " - 0\n",
    " - 355\n",
    " - 7335\n",
    " - 1949"
   ]
  },
  {
   "cell_type": "code",
   "execution_count": 23,
   "id": "4bca2942",
   "metadata": {
    "scrolled": true
   },
   "outputs": [
    {
     "name": "stdout",
     "output_type": "stream",
     "text": [
      " * sqlite:///TMDB-a-4006.db\n",
      "Done.\n"
     ]
    },
    {
     "data": {
      "text/html": [
       "<table>\n",
       "    <thead>\n",
       "        <tr>\n",
       "            <th>female_actors_count</th>\n",
       "        </tr>\n",
       "    </thead>\n",
       "    <tbody>\n",
       "        <tr>\n",
       "            <td>355</td>\n",
       "        </tr>\n",
       "    </tbody>\n",
       "</table>"
      ],
      "text/plain": [
       "[(355,)]"
      ]
     },
     "execution_count": 23,
     "metadata": {},
     "output_type": "execute_result"
    }
   ],
   "source": [
    "%%sql\n",
    "SELECT COUNT(*) AS female_actors_count\n",
    "FROM actors\n",
    "WHERE \n",
    "    gender = 1\n",
    "AND actor_name LIKE 'N%';\n",
    "    "
   ]
  },
  {
   "cell_type": "markdown",
   "id": "7ea65b50",
   "metadata": {},
   "source": [
    "### Question 11\n",
    "\n",
    "Which genre has, on average, the lowest movie popularity score? \n",
    "\n",
    "\n",
    "**Options:**\n",
    "\n",
    " - Science Fiction\n",
    " - Animation\n",
    " - Documentary\n",
    " - Foreign"
   ]
  },
  {
   "cell_type": "code",
   "execution_count": 12,
   "id": "e3a55c56",
   "metadata": {},
   "outputs": [
    {
     "name": "stdout",
     "output_type": "stream",
     "text": [
      " * sqlite:///TMDB-a-4006.db\n",
      "Done.\n"
     ]
    },
    {
     "data": {
      "text/html": [
       "<table>\n",
       "    <thead>\n",
       "        <tr>\n",
       "            <th>genre_name</th>\n",
       "            <th>avg_popularity</th>\n",
       "        </tr>\n",
       "    </thead>\n",
       "    <tbody>\n",
       "        <tr>\n",
       "            <td>Foreign</td>\n",
       "            <td>0.686786794117647</td>\n",
       "        </tr>\n",
       "    </tbody>\n",
       "</table>"
      ],
      "text/plain": [
       "[('Foreign', 0.686786794117647)]"
      ]
     },
     "execution_count": 12,
     "metadata": {},
     "output_type": "execute_result"
    }
   ],
   "source": [
    "%%sql\n",
    "SELECT genre_name, AVG(popularity) AS avg_popularity\n",
    "FROM movies m\n",
    "JOIN genremap gm\n",
    "ON m.movie_id = gm.movie_id\n",
    "JOIN genres g\n",
    "ON g.genre_id = gm.genre_id\n",
    "GROUP BY genre_name\n",
    "ORDER BY avg_popularity\n",
    "ASC\n",
    "LIMIT 1;"
   ]
  },
  {
   "cell_type": "code",
   "execution_count": null,
   "id": "48a811ef-de95-44c6-a8b0-ab18afa9364d",
   "metadata": {},
   "outputs": [],
   "source": [
    "### Question 12\n",
    "\n",
    "Which award category has the highest number of actor nominations (actors can be male or female)? (Hint: `Oscars.name` contains both actors' names and film names.)\n",
    "\n",
    "**Options:**\n",
    "\n",
    "- Special Achievement Award\n",
    "- Actor in a Supporting Role\n",
    "- Actress in a Supporting Role\n",
    "- Best Picture\n",
    "\n"
   ]
  },
  {
   "cell_type": "code",
   "execution_count": 36,
   "id": "e3943f72",
   "metadata": {},
   "outputs": [
    {
     "name": "stdout",
     "output_type": "stream",
     "text": [
      " * sqlite:///TMDB-a-4006.db\n",
      "Done.\n"
     ]
    },
    {
     "data": {
      "text/html": [
       "<table>\n",
       "    <thead>\n",
       "        <tr>\n",
       "            <th>award</th>\n",
       "            <th>highest_number_of_actors</th>\n",
       "        </tr>\n",
       "    </thead>\n",
       "    <tbody>\n",
       "        <tr>\n",
       "            <td>Actor in a Supporting Role</td>\n",
       "            <td>356</td>\n",
       "        </tr>\n",
       "        <tr>\n",
       "            <td>Actress in a Supporting Role</td>\n",
       "            <td>331</td>\n",
       "        </tr>\n",
       "        <tr>\n",
       "            <td>Actress in a Leading Role</td>\n",
       "            <td>198</td>\n",
       "        </tr>\n",
       "        <tr>\n",
       "            <td>Actor in a Leading Role</td>\n",
       "            <td>197</td>\n",
       "        </tr>\n",
       "        <tr>\n",
       "            <td>Actor</td>\n",
       "            <td>184</td>\n",
       "        </tr>\n",
       "        <tr>\n",
       "            <td>Actress</td>\n",
       "            <td>145</td>\n",
       "        </tr>\n",
       "        <tr>\n",
       "            <td>Honorary Award</td>\n",
       "            <td>35</td>\n",
       "        </tr>\n",
       "        <tr>\n",
       "            <td>Jean Hersholt Humanitarian Award</td>\n",
       "            <td>15</td>\n",
       "        </tr>\n",
       "        <tr>\n",
       "            <td>Special Award</td>\n",
       "            <td>14</td>\n",
       "        </tr>\n",
       "        <tr>\n",
       "            <td>Irving G. Thalberg Memorial Award</td>\n",
       "            <td>12</td>\n",
       "        </tr>\n",
       "        <tr>\n",
       "            <td>Directing</td>\n",
       "            <td>4</td>\n",
       "        </tr>\n",
       "        <tr>\n",
       "            <td>Special Achievement Award</td>\n",
       "            <td>2</td>\n",
       "        </tr>\n",
       "        <tr>\n",
       "            <td>Directing (Dramatic Picture)</td>\n",
       "            <td>2</td>\n",
       "        </tr>\n",
       "        <tr>\n",
       "            <td>John A. Bonner Medal of Commendation</td>\n",
       "            <td>1</td>\n",
       "        </tr>\n",
       "        <tr>\n",
       "            <td>Gordon E. Sawyer Award</td>\n",
       "            <td>1</td>\n",
       "        </tr>\n",
       "        <tr>\n",
       "            <td>Cinematography</td>\n",
       "            <td>1</td>\n",
       "        </tr>\n",
       "    </tbody>\n",
       "</table>"
      ],
      "text/plain": [
       "[('Actor in a Supporting Role', 356),\n",
       " ('Actress in a Supporting Role', 331),\n",
       " ('Actress in a Leading Role', 198),\n",
       " ('Actor in a Leading Role', 197),\n",
       " ('Actor', 184),\n",
       " ('Actress', 145),\n",
       " ('Honorary Award', 35),\n",
       " ('Jean Hersholt Humanitarian Award', 15),\n",
       " ('Special Award', 14),\n",
       " ('Irving G. Thalberg Memorial Award', 12),\n",
       " ('Directing', 4),\n",
       " ('Special Achievement Award', 2),\n",
       " ('Directing (Dramatic Picture)', 2),\n",
       " ('John A. Bonner Medal of Commendation', 1),\n",
       " ('Gordon E. Sawyer Award', 1),\n",
       " ('Cinematography', 1)]"
      ]
     },
     "execution_count": 36,
     "metadata": {},
     "output_type": "execute_result"
    }
   ],
   "source": [
    "%%sql\n",
    "SELECT  award,\n",
    "COUNT(*) AS highest_number_of_actors\n",
    "\n",
    "FROM\n",
    "    Oscars O\n",
    "JOIN actors a\n",
    "ON O.name = a.actor_name\n",
    "GROUP BY award\n",
    "ORDER BY highest_number_of_actors\n",
    "DESC;\n",
    "\n"
   ]
  },
  {
   "cell_type": "code",
   "execution_count": null,
   "id": "7f35da0f-c3c0-43bf-8e82-947e90c03889",
   "metadata": {},
   "outputs": [],
   "source": [
    "### Question 13\n",
    "\n",
    "For all of the entries in the Oscars table before 1934, the year is stored differently than in all the subsequent years. For example, the year would be saved as “1932/1933” instead of just “1933” (the second indicated year).  Which of the following options would be the appropriate code to update this column to have the format of the year be consistent throughout the entire table (second indicated year only shown)?\n",
    "\n",
    "\n",
    "**Options:**\n",
    "\n",
    "- `UPDATE Oscars SET year = RIGHT(year, -4)`\n",
    "- `UPDATE Oscars SET year = SELECT substr(year, -4)`\n",
    "- `UPDATE Oscars SET year = substr(year, -4)`\n",
    "- `UPDATE Oscars year =  substr(year, 4)`"
   ]
  },
  {
   "cell_type": "code",
   "execution_count": 37,
   "id": "6220bb09",
   "metadata": {},
   "outputs": [
    {
     "name": "stdout",
     "output_type": "stream",
     "text": [
      " * sqlite:///TMDB-a-4006.db\n",
      "9964 rows affected.\n"
     ]
    },
    {
     "data": {
      "text/plain": [
       "[]"
      ]
     },
     "execution_count": 37,
     "metadata": {},
     "output_type": "execute_result"
    }
   ],
   "source": [
    "%%sql\n",
    "UPDATE Oscars \n",
    "SET \n",
    "    year = substr(year, -4)\n"
   ]
  },
  {
   "cell_type": "code",
   "execution_count": null,
   "id": "77910a56-4410-4587-8ce6-4ba817795eae",
   "metadata": {},
   "outputs": [],
   "source": [
    "### Question 14\n",
    "\n",
    "DStv will be having a special week dedicated to the actor Alan Rickman. Which of the following queries would create a new _view_ that shows the titles, release dates, taglines, and overviews of all movies that Alan Rickman has played in?\n",
    "\n",
    "\n",
    "\n",
    "**Options:**\n",
    "\n",
    "- SELECT title, release_date, tagline, overview \n",
    "FROM Movies LEFT JOIN Casts ON Casts.movie_id = Movies.movie_id Left JOIN Actors ON Casts.actor_id = Actors.actor_id \n",
    "WHERE Actors.actor_name = 'Alan Rickman'\n",
    "AS VIEW Alan_Rickman_Movies\n",
    "\n",
    "- CREATE VIEW Alan_Rickman_Movies AS  \n",
    "SELECT title, release_date, tagline, overview FROM Movies  \n",
    "LEFT JOIN Casts ON Casts.movie_id = Movies.movie_id Left JOIN Actors\n",
    "ON Casts.actor_id = Actors.actor_id\n",
    "WHERE Actors.actor_name = 'Alan Rickman' \n",
    "\n",
    "\n",
    "- CREATE NEW VIEW  Name  = Alan_Rickman_Movies AS SELECT title, release_date, tagline, overview FROM Movies LEFT JOIN Casts ON Casts.movie_id = Movies.movie_id Left JOIN Actors ON Casts.actor_id = Actors.actor_id WHERE Actors.actor_name = 'Alan Rickman'\n",
    "\n",
    "- VIEW Alan_Rickman_Movies AS SELECT title, release_date, tagline, overview FROM Movies LEFT JOIN Casts ON Casts.movie_id = Movies.movie_id Left JOIN Actors ON Casts.actor_id = Actors.actor_id WHERE Actors.actor_name = 'Alan Rickman'"
   ]
  },
  {
   "cell_type": "code",
   "execution_count": null,
   "id": "f9b82bc6",
   "metadata": {},
   "outputs": [],
   "source": []
  },
  {
   "cell_type": "markdown",
   "id": "42e9915e",
   "metadata": {},
   "source": [
    "### Question 15\n",
    "\n",
    "Which of the statements about database normalisation are true?\n",
    "\n",
    "**Statements:**\n",
    " \n",
    "i) Database normalisation improves data redundancy, saves on storage space, and fulfils the requirement of records to be uniquely identified.\n",
    "\n",
    "ii) Database normalisation supports up to the Third Normal Form and removes all data anomalies.\n",
    "\n",
    "iii) Database normalisation removes inconsistencies that may cause the analysis of our data to be more complicated.\n",
    "\n",
    "iv) Database normalisation increases data redundancy, saves on storage space, and fulfils the requirement of records to be uniquely identified.\n",
    "\n",
    "**Options:**\n",
    "\n",
    " - (i) and (ii)\n",
    " - (i) and (iii)\n",
    " - (ii) and (iv)\n",
    " - (iii) and (iv)"
   ]
  },
  {
   "cell_type": "code",
   "execution_count": null,
   "id": "46359d38-619f-4779-8b94-7b61f9a26b49",
   "metadata": {},
   "outputs": [],
   "source": [
    "(i) and (iii)"
   ]
  },
  {
   "cell_type": "code",
   "execution_count": null,
   "id": "effe08d5-4e3d-4b0d-a545-8cc414b2273d",
   "metadata": {},
   "outputs": [],
   "source": [
    "What are the unique genre in  the data base"
   ]
  },
  {
   "cell_type": "code",
   "execution_count": 57,
   "id": "556bb45c-a6bd-4207-9dc3-959baeefe690",
   "metadata": {},
   "outputs": [
    {
     "name": "stdout",
     "output_type": "stream",
     "text": [
      " * sqlite:///TMDB-a-4006.db\n",
      "Done.\n"
     ]
    },
    {
     "data": {
      "text/html": [
       "<table>\n",
       "    <thead>\n",
       "        <tr>\n",
       "            <th>COUNT<br>   ( DISTINCT genre_name)</th>\n",
       "        </tr>\n",
       "    </thead>\n",
       "    <tbody>\n",
       "        <tr>\n",
       "            <td>20</td>\n",
       "        </tr>\n",
       "    </tbody>\n",
       "</table>"
      ],
      "text/plain": [
       "[(20,)]"
      ]
     },
     "execution_count": 57,
     "metadata": {},
     "output_type": "execute_result"
    }
   ],
   "source": [
    "%%sql\n",
    "SELECT COUNT\n",
    "   ( DISTINCT genre_name)\n",
    "FROM\n",
    "    genres;"
   ]
  },
  {
   "cell_type": "code",
   "execution_count": null,
   "id": "93f5ad67-8728-4b80-aa65-0467951f1f0d",
   "metadata": {},
   "outputs": [],
   "source": [
    "class work \n",
    "What are the actors that acted english movies\n"
   ]
  },
  {
   "cell_type": "code",
   "execution_count": 50,
   "id": "955d36ff-62dc-417d-b067-fd6d844166bd",
   "metadata": {},
   "outputs": [
    {
     "name": "stdout",
     "output_type": "stream",
     "text": [
      " * sqlite:///TMDB-a-4006.db\n",
      "Done.\n"
     ]
    },
    {
     "data": {
      "text/html": [
       "<table>\n",
       "    <thead>\n",
       "        <tr>\n",
       "            <th>actor_name</th>\n",
       "        </tr>\n",
       "    </thead>\n",
       "    <tbody>\n",
       "        <tr>\n",
       "            <td>102072</td>\n",
       "        </tr>\n",
       "    </tbody>\n",
       "</table>"
      ],
      "text/plain": [
       "[(102072,)]"
      ]
     },
     "execution_count": 50,
     "metadata": {},
     "output_type": "execute_result"
    }
   ],
   "source": [
    "%%sql\n",
    "SELECT\n",
    "COUNT(*)\n",
    "    actor_name\n",
    "FROM \n",
    "    movies m\n",
    "JOIN casts c\n",
    "ON m.movie_id = c.movie_id\n",
    "JOIN actors a\n",
    "ON a.actor_id = c.actor_id\n",
    "JOIN languagemap lm\n",
    "ON m.movie_id = lm.movie_id\n",
    "JOIN languages l\n",
    "ON l.iso_639_1 = lm.iso_639_1\n",
    "WHERE\n",
    "    language_name = 'English';\n",
    "\n"
   ]
  },
  {
   "cell_type": "code",
   "execution_count": null,
   "id": "ddedcb22-71e5-4f0a-8735-93f3fb978448",
   "metadata": {},
   "outputs": [],
   "source": [
    "Write a querry that count the numbers of movies in each genre\n"
   ]
  },
  {
   "cell_type": "code",
   "execution_count": 60,
   "id": "051682d7-361f-410f-9e61-4662741683f8",
   "metadata": {},
   "outputs": [
    {
     "name": "stdout",
     "output_type": "stream",
     "text": [
      " * sqlite:///TMDB-a-4006.db\n",
      "Done.\n"
     ]
    },
    {
     "data": {
      "text/html": [
       "<table>\n",
       "    <thead>\n",
       "        <tr>\n",
       "            <th>title</th>\n",
       "            <th>COUNT(*)</th>\n",
       "        </tr>\n",
       "    </thead>\n",
       "    <tbody>\n",
       "        <tr>\n",
       "            <td>Star Wars</td>\n",
       "            <td>1154</td>\n",
       "        </tr>\n",
       "        <tr>\n",
       "            <td>Star Wars</td>\n",
       "            <td>790</td>\n",
       "        </tr>\n",
       "        <tr>\n",
       "            <td>Finding Nemo</td>\n",
       "            <td>234</td>\n",
       "        </tr>\n",
       "        <tr>\n",
       "            <td>Four Rooms</td>\n",
       "            <td>1722</td>\n",
       "        </tr>\n",
       "        <tr>\n",
       "            <td>Four Rooms</td>\n",
       "            <td>696</td>\n",
       "        </tr>\n",
       "        <tr>\n",
       "            <td>Riding Giants</td>\n",
       "            <td>110</td>\n",
       "        </tr>\n",
       "        <tr>\n",
       "            <td>Forrest Gump</td>\n",
       "            <td>2297</td>\n",
       "        </tr>\n",
       "        <tr>\n",
       "            <td>Finding Nemo</td>\n",
       "            <td>513</td>\n",
       "        </tr>\n",
       "        <tr>\n",
       "            <td>The Fifth Element</td>\n",
       "            <td>424</td>\n",
       "        </tr>\n",
       "        <tr>\n",
       "            <td>Water</td>\n",
       "            <td>34</td>\n",
       "        </tr>\n",
       "        <tr>\n",
       "            <td>Hero</td>\n",
       "            <td>197</td>\n",
       "        </tr>\n",
       "        <tr>\n",
       "            <td>28 Days Later</td>\n",
       "            <td>519</td>\n",
       "        </tr>\n",
       "        <tr>\n",
       "            <td>Dancer in the Dark</td>\n",
       "            <td>185</td>\n",
       "        </tr>\n",
       "        <tr>\n",
       "            <td>2001: A Space Odyssey</td>\n",
       "            <td>348</td>\n",
       "        </tr>\n",
       "        <tr>\n",
       "            <td>Forrest Gump</td>\n",
       "            <td>894</td>\n",
       "        </tr>\n",
       "        <tr>\n",
       "            <td>Star Wars</td>\n",
       "            <td>535</td>\n",
       "        </tr>\n",
       "        <tr>\n",
       "            <td>High School Musical</td>\n",
       "            <td>8</td>\n",
       "        </tr>\n",
       "        <tr>\n",
       "            <td>The Fifth Element</td>\n",
       "            <td>1274</td>\n",
       "        </tr>\n",
       "        <tr>\n",
       "            <td>Jarhead</td>\n",
       "            <td>144</td>\n",
       "        </tr>\n",
       "        <tr>\n",
       "            <td>Unforgiven</td>\n",
       "            <td>82</td>\n",
       "        </tr>\n",
       "    </tbody>\n",
       "</table>"
      ],
      "text/plain": [
       "[('Star Wars', 1154),\n",
       " ('Star Wars', 790),\n",
       " ('Finding Nemo', 234),\n",
       " ('Four Rooms', 1722),\n",
       " ('Four Rooms', 696),\n",
       " ('Riding Giants', 110),\n",
       " ('Forrest Gump', 2297),\n",
       " ('Finding Nemo', 513),\n",
       " ('The Fifth Element', 424),\n",
       " ('Water', 34),\n",
       " ('Hero', 197),\n",
       " ('28 Days Later', 519),\n",
       " ('Dancer in the Dark', 185),\n",
       " ('2001: A Space Odyssey', 348),\n",
       " ('Forrest Gump', 894),\n",
       " ('Star Wars', 535),\n",
       " ('High School Musical', 8),\n",
       " ('The Fifth Element', 1274),\n",
       " ('Jarhead', 144),\n",
       " ('Unforgiven', 82)]"
      ]
     },
     "execution_count": 60,
     "metadata": {},
     "output_type": "execute_result"
    }
   ],
   "source": [
    "%%sql\n",
    "SELECT title,\n",
    "    COUNT(*)\n",
    "FROM \n",
    "    movies m\n",
    "JOIN genremap gm\n",
    "ON m.movie_id = gm.movie_id\n",
    "JOIN genres g \n",
    "ON g.genre_id = gm.genre_id\n",
    "GROUP BY genre_name;\n"
   ]
  },
  {
   "cell_type": "code",
   "execution_count": null,
   "id": "bf17cf21-ed1a-4a87-82b7-52dcc4a2dbe8",
   "metadata": {},
   "outputs": [],
   "source": [
    "Story: As a data scientist for a streaming platform, you're tasked with analyzing user preferences for different movie genres over time. Your boss wants to know which genres have gained popularity in the last five years.\n",
    "\n",
    "Question:\n",
    "\n",
    "How have the top 3 movie genres changed in popularity over the last 5 years in the TMDB dataset?"
   ]
  },
  {
   "cell_type": "code",
   "execution_count": 10,
   "id": "ee8301a9-d041-423e-bee5-1ee0cf3298ff",
   "metadata": {},
   "outputs": [
    {
     "name": "stdout",
     "output_type": "stream",
     "text": [
      " * sqlite:///TMDB-a-4006.db\n",
      "Done.\n"
     ]
    },
    {
     "data": {
      "text/html": [
       "<table>\n",
       "    <thead>\n",
       "        <tr>\n",
       "            <th>genre_name</th>\n",
       "            <th>title</th>\n",
       "            <th>total_popularity</th>\n",
       "        </tr>\n",
       "    </thead>\n",
       "    <tbody>\n",
       "        <tr>\n",
       "            <td>Drama</td>\n",
       "            <td>The Town</td>\n",
       "            <td>5129.447721</td>\n",
       "        </tr>\n",
       "        <tr>\n",
       "            <td>Thriller</td>\n",
       "            <td>The Town</td>\n",
       "            <td>1392.6966129999998</td>\n",
       "        </tr>\n",
       "        <tr>\n",
       "            <td>History</td>\n",
       "            <td>The King&#x27;s Speech</td>\n",
       "            <td>1220.523024</td>\n",
       "        </tr>\n",
       "    </tbody>\n",
       "</table>"
      ],
      "text/plain": [
       "[('Drama', 'The Town', 5129.447721),\n",
       " ('Thriller', 'The Town', 1392.6966129999998),\n",
       " ('History', \"The King's Speech\", 1220.523024)]"
      ]
     },
     "execution_count": 10,
     "metadata": {},
     "output_type": "execute_result"
    }
   ],
   "source": [
    "%%sql\n",
    "SELECT\n",
    "    genre_name,title, SUM(popularity) AS total_popularity\n",
    "FROM\n",
    "    movies m\n",
    "JOIN genremap gm\n",
    "ON m.movie_id = gm.movie_id\n",
    "JOIN genres g\n",
    "ON g.genre_id = gm.genre_id\n",
    "JOIN oscars o\n",
    "ON o.film = m.title\n",
    "WHERE \n",
    "    year  BETWEEN 2010 AND 2015\n",
    "GROUP BY genre_name\n",
    "ORDER BY total_popularity \n",
    "DESC \n",
    "LIMIT 3;"
   ]
  },
  {
   "cell_type": "markdown",
   "id": "725c11a9-8636-4ff4-9880-49c3c4d44696",
   "metadata": {},
   "source": [
    "Most Frequent Collaborators (Actors & Directors)\n",
    "You're a film journalist working on a piece about long-standing actor-director partnerships. You want to find pairs who have worked together frequently in the TMDB database.\n",
    "\n",
    "Question:\n",
    "\n",
    "Which actor-director pairs have collaborated the most in the TMDB dataset?"
   ]
  },
  {
   "cell_type": "code",
   "execution_count": 20,
   "id": "3ef9f1a5-5958-4d7a-a734-ad05fc8ec4d0",
   "metadata": {},
   "outputs": [
    {
     "name": "stdout",
     "output_type": "stream",
     "text": [
      " * sqlite:///TMDB-a-4006.db\n",
      "(sqlite3.OperationalError) near \"(\": syntax error\n",
      "[SQL: SELECT\n",
      "     actor\n",
      "COUNT(m.movie_id) AS collaborations\n",
      "FROM \n",
      "    movies m\n",
      "JOIN casts c\n",
      "ON m.movie_id = c.movie_id\n",
      "JOIN actors a\n",
      "ON a.actor_id = c.actor_id\n",
      "JOIN oscars o\n",
      "ON c.characters = o.name\n",
      "WHERE \n",
      "    cast = 'Director'\n",
      "GROUP BY actor\n",
      "ORDER BY collaborations\n",
      "DESC;]\n",
      "(Background on this error at: https://sqlalche.me/e/14/e3q8)\n"
     ]
    }
   ],
   "source": [
    "%%sql\n",
    "SELECT\n",
    "     actor\n",
    "COUNT(m.movie_id) AS collaborations\n",
    "FROM \n",
    "    movies m\n",
    "JOIN casts c\n",
    "ON m.movie_id = c.movie_id\n",
    "JOIN actors a\n",
    "ON a.actor_id = c.actor_id\n",
    "JOIN oscars o\n",
    "ON c.characters = o.name\n",
    "WHERE \n",
    "    cast = 'Director'\n",
    "GROUP BY actor\n",
    "ORDER BY collaborations\n",
    "DESC;"
   ]
  },
  {
   "cell_type": "code",
   "execution_count": null,
   "id": "aba45f56-d961-4967-a684-452f14a5479e",
   "metadata": {},
   "outputs": [],
   "source": [
    "Average Movie Budget by Genre\n",
    "Story: A film production company wants to invest in a new movie and ask you to provide insight into the average budget required for difeerent genres\n",
    "\n",
    "QUESTION: What is the average budget of movies accross different genres in the TMDB dataset?"
   ]
  }
 ],
 "metadata": {
  "kernelspec": {
   "display_name": "Python 3 (ipykernel)",
   "language": "python",
   "name": "python3"
  },
  "language_info": {
   "codemirror_mode": {
    "name": "ipython",
    "version": 3
   },
   "file_extension": ".py",
   "mimetype": "text/x-python",
   "name": "python",
   "nbconvert_exporter": "python",
   "pygments_lexer": "ipython3",
   "version": "3.12.4"
  }
 },
 "nbformat": 4,
 "nbformat_minor": 5
}
